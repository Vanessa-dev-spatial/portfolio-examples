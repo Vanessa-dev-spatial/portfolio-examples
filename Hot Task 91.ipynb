{
 "cells": [
  {
   "cell_type": "markdown",
   "id": "68df312a",
   "metadata": {},
   "source": [
    "# HOT Task Manager - Task 91 project #15590 using SAR imagery for better waterways detection in the DRC"
   ]
  },
  {
   "cell_type": "markdown",
   "id": "e35fdab5",
   "metadata": {},
   "source": [
    "## Introduction"
   ]
  },
  {
   "cell_type": "markdown",
   "id": "23d7aebc",
   "metadata": {},
   "source": [
    "Name: Bolognani Vanessa <br>\n",
    "Date: 14/01/2025\n",
    "\n",
    "This Jupyter Notebook showcases the use of **Synthetic Aperture Radar (SAR)** imagery to detect waterways in regions where traditional optical satellite imagery might fall short. In areas like the **Democratic Republic of the Congo (DRC)**, dense forests, cloud cover, and other environmental factors often obscure rivers, lakes, and streams, making it challenging to map these important features. SAR, however, offers a powerful solution by penetrating both cloud cover and dense vegetation, providing detailed information about the landscape, including water bodies.\n",
    "\n",
    "In this notebook, we focus on [**Project: DRC Waterways: Kasaï 2023 (Part 4/7) #15590, Task 91**](https://tasks.hotosm.org/projects/15590/instructions), available through the HOT (Humanitarian OpenStreetMap Team) tasking manager. \n",
    "\n",
    "<table>\n",
    "  <tr>\n",
    "    <td><img src=\"https://raw.githubusercontent.com/Vanessa-dev-spatial/portfolio-examples/main/Task91.png\" alt=\"Image 1\" width=\"300\"/></td>\n",
    "    <td><img src=\"https://raw.githubusercontent.com/Vanessa-dev-spatial/portfolio-examples/main/Tasking%20Manager%20Task%2091%20Screenshot.png\" alt=\"Image 2\" width=\"600\"/></td>\n",
    "  </tr>\n",
    "</table>"
   ]
  },
  {
   "cell_type": "markdown",
   "id": "a33d3e04",
   "metadata": {},
   "source": [
    "The bounding box for this task area is defined by specific coordinates, marking the geographical region of focus for this project. Below are the coordinates for the bounding box:\n",
    "\n",
    "- Min Latitude (minlat): -5.386893\n",
    "- Min Longitude (minlon): 23.096929\n",
    "- Max Latitude (maxlat): -5.223223\n",
    "- Max Longitude (maxlon): 23.132675\n",
    "\n",
    "The coordinates were extracted from JOSM. This bounding box covers a portion of the **Kasaï region in the Democratic Republic of the Congo (DRC)**. The area enclosed by this bounding box can be visualized as a rectangle that represents the region to be studied. SAR imagery will be utilized within this area to detect waterways that are often obscured by dense vegetation or forest cover, which can make them difficult to identify using optical imagery alone. By applying SAR data, this project will help uncover these waterways, improving the accuracy and completeness of the OSM waterway network in this region."
   ]
  },
  {
   "cell_type": "markdown",
   "id": "46880e81",
   "metadata": {},
   "source": [
    "***"
   ]
  },
  {
   "cell_type": "markdown",
   "id": "8e4d0698",
   "metadata": {},
   "source": [
    "### Import Python Libraries"
   ]
  },
  {
   "cell_type": "code",
   "execution_count": 127,
   "id": "1c04925e",
   "metadata": {},
   "outputs": [],
   "source": [
    "##Part 1: Acquire OSM data using Overpass API\n",
    "#import relevant libraries\n",
    "import overpy #to retrieve OSM data\n",
    "from shapely.geometry import Point, LineString, Polygon, MultiPolygon, box #Convert overpy results into valid geom features. GeoPanda implements Shapely geometries\n",
    "import geopandas as gpd #to work with Pandas GeoDataFrames\n",
    "import lonboard #to visualize vector and raster data\n",
    "from lonboard import Map, PolygonLayer, ScatterplotLayer, PathLayer, BitmapLayer\n",
    "\n",
    "##Part 2: Aquire Satellite Imagery Data\n",
    "from sentinelhub import SHConfig, WmsRequest, DataCollection, BBox, CRS"
   ]
  },
  {
   "cell_type": "markdown",
   "id": "22fde8bb",
   "metadata": {},
   "source": [
    "## Aquire OSM data using Overpass API"
   ]
  },
  {
   "cell_type": "markdown",
   "id": "6e42c4bb",
   "metadata": {},
   "source": [
    "There are two main ways to access OSM data:\n",
    "\n",
    "![Image Description](https://raw.githubusercontent.com/Vanessa-dev-spatial/portfolio-examples/main/Access_OSMdata.png)\n",
    "\n",
    "In this notebook, OSM data will be retrieved via the Overpass API. More specifically, I will use the overpy library. The queries will be written using the [Overpass Query Language](https://wiki.openstreetmap.org/wiki/Overpass_API/Language_Guide) and tested on [Overpass Turbo](https://overpass-turbo.eu/). "
   ]
  },
  {
   "cell_type": "markdown",
   "id": "80f5a2f6",
   "metadata": {},
   "source": [
    "### Query the OSM Database"
   ]
  },
  {
   "cell_type": "code",
   "execution_count": 74,
   "id": "a34f4da7",
   "metadata": {},
   "outputs": [
    {
     "name": "stdout",
     "output_type": "stream",
     "text": [
      "Number of nodes: 67\n",
      "Number of ways: 2\n",
      "Number of relations: 1\n"
     ]
    }
   ],
   "source": [
    "#Class to access the Overpass API\n",
    "api = overpy.Overpass()\n",
    "\n",
    "#Overpass query:\n",
    "    ##Define global bounding box\n",
    "    #Retrieve all nodes, ways and relations within the bounding box\n",
    "    ##Return features id, geometry and tags\n",
    "    \n",
    "query = \"\"\"\n",
    "[out:json][bbox:-5.386893, 23.096929, -5.223223, 23.132675];\n",
    "nwr;\n",
    "out body;\n",
    "\"\"\"\n",
    "\n",
    "#Query the OSM Database using the Overpass API\n",
    "result = api.query(query)\n",
    "\n",
    "#Explore the results \n",
    "print(f\"Number of nodes: {len(result.nodes)}\")\n",
    "print(f\"Number of ways: {len(result.ways)}\")\n",
    "print(f\"Number of relations: {len(result.relations)}\")"
   ]
  },
  {
   "cell_type": "markdown",
   "id": "4f499e63",
   "metadata": {},
   "source": [
    "### Convert Overpy result in Shapely geometries "
   ]
  },
  {
   "cell_type": "markdown",
   "id": "b982a8f7",
   "metadata": {},
   "source": [
    "#### Nodes into Points"
   ]
  },
  {
   "cell_type": "code",
   "execution_count": 75,
   "id": "eb14b9b0",
   "metadata": {},
   "outputs": [
    {
     "data": {
      "text/html": [
       "<div>\n",
       "<style scoped>\n",
       "    .dataframe tbody tr th:only-of-type {\n",
       "        vertical-align: middle;\n",
       "    }\n",
       "\n",
       "    .dataframe tbody tr th {\n",
       "        vertical-align: top;\n",
       "    }\n",
       "\n",
       "    .dataframe thead th {\n",
       "        text-align: right;\n",
       "    }\n",
       "</style>\n",
       "<table border=\"1\" class=\"dataframe\">\n",
       "  <thead>\n",
       "    <tr style=\"text-align: right;\">\n",
       "      <th></th>\n",
       "      <th>geometry</th>\n",
       "    </tr>\n",
       "  </thead>\n",
       "  <tbody>\n",
       "    <tr>\n",
       "      <th>0</th>\n",
       "      <td>POINT (23.11597 -5.36569)</td>\n",
       "    </tr>\n",
       "    <tr>\n",
       "      <th>1</th>\n",
       "      <td>POINT (23.11621 -5.36560)</td>\n",
       "    </tr>\n",
       "    <tr>\n",
       "      <th>2</th>\n",
       "      <td>POINT (23.11648 -5.36606)</td>\n",
       "    </tr>\n",
       "    <tr>\n",
       "      <th>3</th>\n",
       "      <td>POINT (23.11728 -5.36664)</td>\n",
       "    </tr>\n",
       "    <tr>\n",
       "      <th>4</th>\n",
       "      <td>POINT (23.11698 -5.36685)</td>\n",
       "    </tr>\n",
       "    <tr>\n",
       "      <th>...</th>\n",
       "      <td>...</td>\n",
       "    </tr>\n",
       "    <tr>\n",
       "      <th>62</th>\n",
       "      <td>POINT (23.09898 -5.23739)</td>\n",
       "    </tr>\n",
       "    <tr>\n",
       "      <th>63</th>\n",
       "      <td>POINT (23.09844 -5.23767)</td>\n",
       "    </tr>\n",
       "    <tr>\n",
       "      <th>64</th>\n",
       "      <td>POINT (23.09810 -5.23772)</td>\n",
       "    </tr>\n",
       "    <tr>\n",
       "      <th>65</th>\n",
       "      <td>POINT (23.09748 -5.23728)</td>\n",
       "    </tr>\n",
       "    <tr>\n",
       "      <th>66</th>\n",
       "      <td>POINT (23.09702 -5.23753)</td>\n",
       "    </tr>\n",
       "  </tbody>\n",
       "</table>\n",
       "<p>67 rows × 1 columns</p>\n",
       "</div>"
      ],
      "text/plain": [
       "                     geometry\n",
       "0   POINT (23.11597 -5.36569)\n",
       "1   POINT (23.11621 -5.36560)\n",
       "2   POINT (23.11648 -5.36606)\n",
       "3   POINT (23.11728 -5.36664)\n",
       "4   POINT (23.11698 -5.36685)\n",
       "..                        ...\n",
       "62  POINT (23.09898 -5.23739)\n",
       "63  POINT (23.09844 -5.23767)\n",
       "64  POINT (23.09810 -5.23772)\n",
       "65  POINT (23.09748 -5.23728)\n",
       "66  POINT (23.09702 -5.23753)\n",
       "\n",
       "[67 rows x 1 columns]"
      ]
     },
     "metadata": {},
     "output_type": "display_data"
    }
   ],
   "source": [
    "#Parse the result into a list of Point geometries\n",
    "# List to store the nodes (as Points)\n",
    "nodes = []\n",
    "\n",
    "for node in result.nodes:\n",
    "    # Create a point geometry from each node\n",
    "    point = Point(node.lon, node.lat)\n",
    "    nodes.append(point)\n",
    "\n",
    "#Create a GeoDataFrame storing nodes geometries and set the Coordinate Reference System - OSM data collected using WGS84 (EPSG:4326)\n",
    "gdf_nodes = gpd.GeoDataFrame(geometry=nodes, crs='EPSG:4326')\n",
    "\n",
    "#Display the Point GeoDataFrame\n",
    "display(gdf_nodes)"
   ]
  },
  {
   "cell_type": "markdown",
   "id": "b4c74bec",
   "metadata": {},
   "source": [
    "#### Ways into Linestrings"
   ]
  },
  {
   "cell_type": "code",
   "execution_count": 76,
   "id": "aee6d857",
   "metadata": {
    "scrolled": true
   },
   "outputs": [
    {
     "data": {
      "text/html": [
       "<div>\n",
       "<style scoped>\n",
       "    .dataframe tbody tr th:only-of-type {\n",
       "        vertical-align: middle;\n",
       "    }\n",
       "\n",
       "    .dataframe tbody tr th {\n",
       "        vertical-align: top;\n",
       "    }\n",
       "\n",
       "    .dataframe thead th {\n",
       "        text-align: right;\n",
       "    }\n",
       "</style>\n",
       "<table border=\"1\" class=\"dataframe\">\n",
       "  <thead>\n",
       "    <tr style=\"text-align: right;\">\n",
       "      <th></th>\n",
       "      <th>geometry</th>\n",
       "    </tr>\n",
       "  </thead>\n",
       "  <tbody>\n",
       "    <tr>\n",
       "      <th>0</th>\n",
       "      <td>LINESTRING (23.05078 -5.25625, 23.05138 -5.255...</td>\n",
       "    </tr>\n",
       "  </tbody>\n",
       "</table>\n",
       "</div>"
      ],
      "text/plain": [
       "                                            geometry\n",
       "0  LINESTRING (23.05078 -5.25625, 23.05138 -5.255..."
      ]
     },
     "metadata": {},
     "output_type": "display_data"
    },
    {
     "data": {
      "text/html": [
       "<div>\n",
       "<style scoped>\n",
       "    .dataframe tbody tr th:only-of-type {\n",
       "        vertical-align: middle;\n",
       "    }\n",
       "\n",
       "    .dataframe tbody tr th {\n",
       "        vertical-align: top;\n",
       "    }\n",
       "\n",
       "    .dataframe thead th {\n",
       "        text-align: right;\n",
       "    }\n",
       "</style>\n",
       "<table border=\"1\" class=\"dataframe\">\n",
       "  <thead>\n",
       "    <tr style=\"text-align: right;\">\n",
       "      <th></th>\n",
       "      <th>geometry</th>\n",
       "    </tr>\n",
       "  </thead>\n",
       "  <tbody>\n",
       "    <tr>\n",
       "      <th>0</th>\n",
       "      <td>POLYGON ((23.11597 -5.36569, 23.11621 -5.36560...</td>\n",
       "    </tr>\n",
       "  </tbody>\n",
       "</table>\n",
       "</div>"
      ],
      "text/plain": [
       "                                            geometry\n",
       "0  POLYGON ((23.11597 -5.36569, 23.11621 -5.36560..."
      ]
     },
     "metadata": {},
     "output_type": "display_data"
    }
   ],
   "source": [
    "# List to store the ways (as LineString) and polygons (as Polygon)\n",
    "ways = []\n",
    "polygons = []\n",
    "\n",
    "# Iterate over the ways in the result\n",
    "for way in result.ways:\n",
    "    # Fetch the nodes for each way, resolving missing ones\n",
    "    nodes_ways = way.get_nodes(resolve_missing=True)\n",
    "    \n",
    "    # Extract coordinates (lon, lat) for each node\n",
    "    coords = [(node.lon, node.lat) for node in nodes_ways]\n",
    "    \n",
    "    if len(coords) > 1:  # A valid way needs at least two nodes\n",
    "        # Check if the way is a closed loop (first and last coordinates should be the same)\n",
    "        if coords[0] == coords[-1]:\n",
    "            # Create a Polygon from the nodes' coordinates\n",
    "            polygon = Polygon(coords)\n",
    "            if polygon.is_valid:  # Only add valid polygons\n",
    "                polygons.append(polygon)\n",
    "        else:\n",
    "            # Create a LineString from the nodes' coordinates\n",
    "            line = LineString(coords)\n",
    "            ways.append(line)\n",
    "\n",
    "# Create GeoDataFrames for both ways and polygons\n",
    "gdf_ways = gpd.GeoDataFrame(geometry=ways, crs='EPSG:4326')\n",
    "gdf_polygons = gpd.GeoDataFrame(geometry=polygons, crs='EPSG:4326')\n",
    "\n",
    "display(gdf_ways)  # Display the ways GeoDataFrame\n",
    "display(gdf_polygons)  # Display the polygons GeoDataFrame"
   ]
  },
  {
   "cell_type": "markdown",
   "id": "2948b94a",
   "metadata": {},
   "source": [
    "#### Relations into Polygons/MultiPolygons"
   ]
  },
  {
   "cell_type": "code",
   "execution_count": 77,
   "id": "ab856e9c",
   "metadata": {},
   "outputs": [
    {
     "data": {
      "text/html": [
       "<div>\n",
       "<style scoped>\n",
       "    .dataframe tbody tr th:only-of-type {\n",
       "        vertical-align: middle;\n",
       "    }\n",
       "\n",
       "    .dataframe tbody tr th {\n",
       "        vertical-align: top;\n",
       "    }\n",
       "\n",
       "    .dataframe thead th {\n",
       "        text-align: right;\n",
       "    }\n",
       "</style>\n",
       "<table border=\"1\" class=\"dataframe\">\n",
       "  <thead>\n",
       "    <tr style=\"text-align: right;\">\n",
       "      <th></th>\n",
       "      <th>geometry</th>\n",
       "    </tr>\n",
       "  </thead>\n",
       "  <tbody>\n",
       "  </tbody>\n",
       "</table>\n",
       "</div>"
      ],
      "text/plain": [
       "Empty GeoDataFrame\n",
       "Columns: [geometry]\n",
       "Index: []"
      ]
     },
     "metadata": {},
     "output_type": "display_data"
    }
   ],
   "source": [
    "# List to store the relations (as LineString)\n",
    "relations = []\n",
    "\n",
    "# Iterate over the relations in the result\n",
    "for relation in result.relations:\n",
    "    # Initialize a list to store the coordinates for this relation\n",
    "    relation_coords = []\n",
    "    \n",
    "    # Iterate over the members of the relation\n",
    "    for member in relation.members:\n",
    "        # Check if the member is a way\n",
    "        if member.role == 'way':\n",
    "            # Fetch the way (using 'ref' to get the specific way)\n",
    "            way = result.get_way(member.ref)\n",
    "            \n",
    "            # Fetch the nodes for the way, resolving missing ones\n",
    "            nodes_ways = way.get_nodes(resolve_missing=True)\n",
    "            \n",
    "            # Extract coordinates (lon, lat) for each node\n",
    "            coords = [(node.lon, node.lat) for node in nodes_ways]\n",
    "            \n",
    "            # If the way has at least two nodes, add its coordinates to the relation's list\n",
    "            if len(coords) > 1:\n",
    "                relation_coords.extend(coords)\n",
    "    \n",
    "    # If the relation contains enough coordinates to form a LineString, create it\n",
    "    if len(relation_coords) > 1:\n",
    "        relation_line = LineString(relation_coords)\n",
    "        relations.append(relation_line)\n",
    "\n",
    "# Create a GeoDataFrame storing relations' geometries and set the Coordinate Reference System (WGS84)\n",
    "gdf_relations = gpd.GeoDataFrame(geometry=relations, crs='EPSG:4326')\n",
    "\n",
    "# Display the Relation GeoDataFrame. No valid relations were found\n",
    "display(gdf_relations)"
   ]
  },
  {
   "cell_type": "markdown",
   "id": "7502ccff",
   "metadata": {},
   "source": [
    "### Visualize OSM data using Lonboard"
   ]
  },
  {
   "cell_type": "markdown",
   "id": "b23bf508",
   "metadata": {},
   "source": [
    "To visualize the data, I will make use of the [Lonboard library](https://developmentseed.org/lonboard/latest/). This library allows for fast, interactive geospatial vector data visualization in Jupyter. In the background, Lonboard converts the data into the GeoParquet format, an optimized storage format for geospatial data. "
   ]
  },
  {
   "cell_type": "code",
   "execution_count": 171,
   "id": "336cc471",
   "metadata": {
    "scrolled": false
   },
   "outputs": [
    {
     "data": {
      "application/vnd.jupyter.widget-view+json": {
       "model_id": "00253e4a4c4b428a896a84ad19807130",
       "version_major": 2,
       "version_minor": 1
      },
      "text/plain": [
       "Map(custom_attribution='', layers=(PolygonLayer(get_fill_color=[0, 0, 0, 0], get_line_color=[0, 0, 0, 255], ge…"
      ]
     },
     "execution_count": 171,
     "metadata": {},
     "output_type": "execute_result"
    }
   ],
   "source": [
    "##Visualize bounding box using the lonboard library\n",
    "\n",
    "# Define the bounding box coordinates - coordinates retrieved from JOSM\n",
    "minlat = -5.386893\n",
    "minlon = 23.096929\n",
    "maxlat = -5.223223\n",
    "maxlon = 23.132675\n",
    "\n",
    "# Create a bounding box (Polygon) using shapely's box function\n",
    "bounding_box = box(minlon, minlat, maxlon, maxlat)\n",
    "\n",
    "# Create a GeoDataFrame storing the bounding box coordinates\n",
    "gdf_bbox = gpd.GeoDataFrame(geometry=[bounding_box], crs=\"EPSG:4326\")\n",
    "\n",
    "#Create Map layer to visualize bounding box\n",
    "layer_bbox = PolygonLayer.from_geopandas(\n",
    "    gdf_bbox,\n",
    "    get_fill_color=[0, 0, 0, 0], #no fill\n",
    "    get_line_color=[0, 0, 0, 255], #display using black outline\n",
    "    get_line_width=50,\n",
    ")\n",
    "\n",
    "#Define Task 91 boundary - coordinates retrived from JOSM\n",
    "coords = [\n",
    "    (23.110913, -5.227001),\n",
    "    (23.126144, -5.223223),\n",
    "    (23.129866, -5.229228),\n",
    "    (23.132675, -5.24745),\n",
    "    (23.128977, -5.256582),\n",
    "    (23.129946, -5.278238),\n",
    "    (23.122123, -5.293487),\n",
    "    (23.120868, -5.300179),\n",
    "    (23.122401, -5.313886),\n",
    "    (23.116915, -5.34567),\n",
    "    (23.121349, -5.356179),\n",
    "    (23.121333, -5.360712),\n",
    "    (23.125283, -5.363605),\n",
    "    (23.127728, -5.369857),\n",
    "    (23.127551, -5.380092),\n",
    "    (23.121329, -5.386705),\n",
    "    (23.115152, -5.386893),\n",
    "    (23.110043, -5.383415),\n",
    "    (23.10791, -5.376104),\n",
    "    (23.104621, -5.37368),\n",
    "    (23.101743, -5.368516),\n",
    "    (23.101253, -5.360301),\n",
    "    (23.096929, -5.347627),\n",
    "    (23.102419, -5.312069),\n",
    "    (23.1009, -5.298146),\n",
    "    (23.103792, -5.285336),\n",
    "    (23.11002, -5.273845),\n",
    "    (23.109009, -5.252853),\n",
    "    (23.112356, -5.24486),\n",
    "    (23.110182, -5.232768),\n",
    "    (23.110913, -5.227001)\n",
    "]\n",
    "\n",
    "# Create a Polygon using shapely\n",
    "polygon = Polygon(coords)\n",
    "\n",
    "# Create a GeoDataFrame storing the polygon coordinates\n",
    "gdf_task91 = gpd.GeoDataFrame(geometry=[polygon], crs='EPSG:4326')\n",
    "\n",
    "#Create Map layer to visualize Task 91\n",
    "layer_task91 = PolygonLayer.from_geopandas(\n",
    "    gdf_task91,\n",
    "    get_fill_color=[0, 0, 0, 0], #no fill\n",
    "    get_line_color=[255, 0, 0], #display using red outline\n",
    "    get_line_width=50,\n",
    ")\n",
    "\n",
    "##Visualize OSM data\n",
    "#Create Map layer to visualize OSM nodes\n",
    "layer_nodes = ScatterplotLayer.from_geopandas(\n",
    "    gdf_nodes,\n",
    "    get_fill_color=[255,255,0], #yellow fill\n",
    "    get_line_color=[0, 0, 0], #black outline\n",
    "    stroked=True,\n",
    "    radius_scale=10,\n",
    ")\n",
    "\n",
    "#Create Map layer to visualize OSM ways\n",
    "layer_ways = PathLayer.from_geopandas(\n",
    "    gdf_ways,\n",
    "    get_color=[135, 206, 235], #blue fill\n",
    "    width_min_pixels=2,\n",
    ")\n",
    "\n",
    "#Create Map layer to visualize OSM closed ways\n",
    "layer_polygons = PolygonLayer.from_geopandas(\n",
    "    gdf_polygons,\n",
    "    get_fill_color=[255,127,80] #orange fill\n",
    ")\n",
    "\n",
    "m = Map([layer_bbox, layer_task91, layer_nodes, layer_ways, layer_polygons])\n",
    "m"
   ]
  },
  {
   "cell_type": "markdown",
   "id": "7321ee38",
   "metadata": {},
   "source": [
    "DELETE PRIVATE CODESS!"
   ]
  },
  {
   "cell_type": "markdown",
   "id": "9e94ec44",
   "metadata": {},
   "source": [
    "## Aquire Satellite Imagery Data"
   ]
  },
  {
   "cell_type": "markdown",
   "id": "cab6370a",
   "metadata": {},
   "source": [
    "SAR imagery can be accessed from various sources, including Sentinel-1 data, which provides VV polarization images. This code retrieves **Sentinel-1 SAR imagery in VV polarization** for the specified bounding box of Task 91. It uses the **sentinelhub** Python package, which is the official Python interface for Sentinel Hub services.\n",
    "The image is saved locally for further analysis. \n",
    "\n",
    "To get client ID and secret, sign up [here](https://identity.dataspace.copernicus.eu/auth/realms/CDSE/protocol/openid-connect/auth?client_id=sh-a696e3be-b074-4baa-9e76-b10bee279c85&redirect_uri=https%3A%2F%2Fshapps.dataspace.copernicus.eu%2Fdashboard%2F%23%2Faccount%2Fsettings&state=33e4abcf-5927-4d02-a68c-a0884691bb2d&response_mode=fragment&response_type=code&scope=openid&nonce=7e421361-61bb-4dae-80cb-ea5830e11856&code_challenge=-5K2XhN8x4bXPUoPQfPtkvamXya0HmnHPSJIpjsGzCU&code_challenge_method=S256)\n",
    "Follow the process highlighted [in this page](https://documentation.dataspace.copernicus.eu/APIs/SentinelHub/Overview/Authentication.html)\n",
    "\n",
    "To get instance id, sign up [here](https://services.sentinel-hub.com/auth/realms/main/protocol/openid-connect/auth?client_id=30cf1d69-af7e-4f3a-997d-0643d660a478&redirect_uri=https%3A%2F%2Fapps.sentinel-hub.com%2Fdashboard%2F%23%2Faccount%2Fsettings&state=84d5e63c-1972-4862-a2ab-316340748100&response_mode=fragment&response_type=code&scope=openid&nonce=fb8703dd-ad84-491b-9b15-eef9aa76e740&code_challenge=zztOJbHLZnMrS5M2gZJ6dRxLDGIrHafyxC4RkR9Fsv8&code_challenge_method=S256)\n",
    "\n",
    "List of Data Collections can be found [here](https://sentinelhub-py.readthedocs.io/en/latest/examples/data_collections.html)"
   ]
  },
  {
   "cell_type": "markdown",
   "id": "2462b184",
   "metadata": {},
   "source": [
    "### Authentication to access Sentinel Data via API"
   ]
  },
  {
   "cell_type": "code",
   "execution_count": 135,
   "id": "6889d506",
   "metadata": {},
   "outputs": [
    {
     "data": {
      "text/plain": [
       "SHConfig(\n",
       "  instance_id='********************************481c',\n",
       "  sh_client_id='***********************************3823',\n",
       "  sh_client_secret='****************************fTel',\n",
       "  sh_base_url='https://services.sentinel-hub.com',\n",
       "  sh_auth_base_url=None,\n",
       "  sh_token_url='https://services.sentinel-hub.com/auth/realms/main/protocol/openid-connect/token',\n",
       "  geopedia_wms_url='https://service.geopedia.world',\n",
       "  geopedia_rest_url='https://www.geopedia.world/rest',\n",
       "  aws_access_key_id='',\n",
       "  aws_secret_access_key='',\n",
       "  aws_session_token='',\n",
       "  aws_metadata_url='https://roda.sentinel-hub.com',\n",
       "  aws_s3_l1c_bucket='sentinel-s2-l1c',\n",
       "  aws_s3_l2a_bucket='sentinel-s2-l2a',\n",
       "  opensearch_url='http://opensearch.sentinel-hub.com/resto/api/collections/Sentinel2',\n",
       "  max_wfs_records_per_query=100,\n",
       "  max_opensearch_records_per_query=500,\n",
       "  max_download_attempts=4,\n",
       "  download_sleep_time=5.0,\n",
       "  download_timeout_seconds=120.0,\n",
       "  number_of_download_processes=1,\n",
       "  max_retries=None,\n",
       ")"
      ]
     },
     "execution_count": 135,
     "metadata": {},
     "output_type": "execute_result"
    }
   ],
   "source": [
    "#Configuration to retrieve SAR data (Sentinel 1)\n",
    "configSAR = SHConfig()\n",
    "\n",
    "client_id ='sh-727b810f-7490-4cd1-b97e-e3c19d2b3823' # Replace with your client ID\n",
    "client_secret = 'Nwle7A3BZu7Mp6wNgcMJS2K2TCUifTel' # Replace with your client secret\n",
    "\n",
    "configSAR.sh_client_id = client_id\n",
    "configSAR.sh_client_secret = client_secret\n",
    "configSAR.instance_id = '67dda95e-09e7-4ad2-af79-c0bee991c5a2' # Replace with your instance ID\n",
    "    \n",
    "configSAR\n",
    "\n",
    "#Configuration to retrieve True Color data (Sentinel 2)\n",
    "configRGB = SHConfig()\n",
    "\n",
    "configRGB.sh_client_id = client_id\n",
    "configRGB.sh_client_secret = client_secret\n",
    "configRGB.instance_id = '8e63340f-8bd1-4d4f-b455-cd034451481c' # Replace with your instance ID\n",
    "    \n",
    "configRGB"
   ]
  },
  {
   "cell_type": "markdown",
   "id": "2ba4bd19",
   "metadata": {},
   "source": [
    "#### Retrieve SAR imagery"
   ]
  },
  {
   "cell_type": "code",
   "execution_count": 166,
   "id": "7414ee9b",
   "metadata": {
    "scrolled": true
   },
   "outputs": [
    {
     "name": "stderr",
     "output_type": "stream",
     "text": [
      "C:\\Users\\Vanessa\\AppData\\Local\\ESRI\\conda\\envs\\myenv\\lib\\site-packages\\sentinelhub\\geometry.py:115: SHDeprecationWarning: Initializing `BBox` objects from `shapely` geometries will no longer be possible in future versions. Use the `bounds` property of the `shapely` geometry to initialize the `BBox` instead.\n",
      "  x_fst, y_fst, x_snd, y_snd = self._to_tuple(bbox)\n"
     ]
    }
   ],
   "source": [
    "#Send a WmsRequest to retrieve SAR imagery\n",
    "wms_sentinel1_vv_request = WmsRequest(\n",
    "    data_collection=DataCollection.SENTINEL1_IW,  #Use Sentinel-1 data collection\n",
    "    layer=\"IW_VV\",  #Use the VV polarization layer (adjust if needed based on your WMS service)\n",
    "    bbox=BBox(bounding_box, crs=CRS.WGS84),  #Bounding box in WGS84 coordinates\n",
    "    time=\"latest\",  #Use the latest available image  - \"2025-01-13T14:34:50.126445\"\n",
    "    width=218, \n",
    "    height=1000,\n",
    "    data_folder = r\"C:\\Users\\Vanessa\\Desktop\\HOT Task 91 project #15590\", #specify location where to save data\n",
    "    config=configSAR,  \n",
    ")\n",
    "\n",
    "#Save data locally. Image png saved as 'response'\n",
    "wms_sar_img = wms_sentinel1_vv_request.get_data(save_data=True)"
   ]
  },
  {
   "cell_type": "markdown",
   "id": "0d9bf97e",
   "metadata": {},
   "source": [
    "#### Retrieve True Color imagery"
   ]
  },
  {
   "cell_type": "code",
   "execution_count": 182,
   "id": "fabb0397",
   "metadata": {},
   "outputs": [],
   "source": [
    "#Send a WmsRequest to retrieve SAR imagery\n",
    "wms_sentinell2a_request = WmsRequest(\n",
    "    data_collection=DataCollection.SENTINEL2_L2A,  #Use Sentinel2_L2A data collection\n",
    "    layer=\"1_TRUE_COLOR\",  #Retrieve True Color imagery (adjust if needed based on your WMS service - I used the premade Sentinel 2 WMS template)\n",
    "    bbox=BBox(bounding_box, crs=CRS.WGS84),  #Bounding box in WGS84 coordinates\n",
    "    time=\"2024-06-26\",\n",
    "    width=218, \n",
    "    height=1000,\n",
    "    data_folder = r\"C:\\Users\\Vanessa\\Desktop\\HOT Task 91 project #15590\", #specify location where to save data\n",
    "    config=configRGB,  \n",
    ")\n",
    "\n",
    "#Save data locally. Image png saved as 'response'\n",
    "wms_rgb_img = wms_sentinell2a_request.get_data(save_data=True)"
   ]
  },
  {
   "cell_type": "markdown",
   "id": "bb3ce742",
   "metadata": {},
   "source": [
    "### Visualize Satellite data using Lonboard"
   ]
  },
  {
   "cell_type": "code",
   "execution_count": 185,
   "id": "7527f06d",
   "metadata": {},
   "outputs": [
    {
     "data": {
      "application/vnd.jupyter.widget-view+json": {
       "model_id": "f6f8d021cbc54b4cb9c643e49fc1b91a",
       "version_major": 2,
       "version_minor": 1
      },
      "text/plain": [
       "Map(custom_attribution='', layers=(BitmapLayer(bounds=(23.096929, -5.386893, 23.132675, -5.223223), image='htt…"
      ]
     },
     "execution_count": 185,
     "metadata": {},
     "output_type": "execute_result"
    }
   ],
   "source": [
    "#Create Map layer to visualize SAR satellite imagery\n",
    "layer_sar = BitmapLayer(\n",
    "    image=\"https://raw.githubusercontent.com/Vanessa-dev-spatial/portfolio-examples/main/response_sar.png\", #'response' image png saved on GitHub as 'response_sar'\n",
    "    bounds= [23.096929, -5.386893,23.132675, -5.223223]\n",
    ")\n",
    "\n",
    "#Create Map layer to visualize True Color satellite imagery\n",
    "layer_rgb = BitmapLayer(\n",
    "    image=\"https://raw.githubusercontent.com/Vanessa-dev-spatial/portfolio-examples/main/response_rgb.png\", #'response' image png saved on GitHub as 'response_rgb'\n",
    "    bounds= [23.096929, -5.386893,23.132675, -5.223223]\n",
    ")\n",
    "\n",
    "#add layers to Map - create new map to achieve correct order of layers\n",
    "m = Map([layer_rgb, layer_sar])\n",
    "m.add_layer([layer_bbox, layer_task91, layer_nodes, layer_ways, layer_polygons])\n",
    "m"
   ]
  },
  {
   "cell_type": "markdown",
   "id": "5e9ee463",
   "metadata": {},
   "source": [
    "## SAR vs True Image Comparison"
   ]
  },
  {
   "cell_type": "code",
   "execution_count": 186,
   "id": "8a322d06",
   "metadata": {},
   "outputs": [
    {
     "data": {
      "application/vnd.jupyter.widget-view+json": {
       "model_id": "57dad656970640e896838aa5047dc5f3",
       "version_major": 2,
       "version_minor": 0
      },
      "text/plain": [
       "VBox(children=(Map(custom_attribution='', layers=(BitmapLayer(bounds=(23.096929, -5.386893, 23.132675, -5.2232…"
      ]
     },
     "execution_count": 186,
     "metadata": {},
     "output_type": "execute_result"
    }
   ],
   "source": [
    "# Create a slider to control the opacity (visibility) of the layers\n",
    "slider = widgets.FloatSlider(\n",
    "    value=0.5,\n",
    "    min=0,\n",
    "    max=1,\n",
    "    step=0.01,\n",
    "    description=\"Opacity\",\n",
    "    continuous_update=False\n",
    ")\n",
    "\n",
    "# Function to update the opacity based on the slider\n",
    "def update_opacity(change):\n",
    "    opacity = change['new']\n",
    "    \n",
    "    # Update opacity of the SAR and RGB layers\n",
    "    layer_sar.opacity = opacity\n",
    "    layer_rgb.opacity = 1 - opacity  # To create a \"swipe\" effect\n",
    "\n",
    "# Link the slider to the update function\n",
    "slider.observe(update_opacity, names='value')\n",
    "\n",
    "# Display the map and slider\n",
    "VBox([m, slider])"
   ]
  },
  {
   "cell_type": "markdown",
   "id": "d75a668b",
   "metadata": {},
   "source": [
    "## Conclusion"
   ]
  },
  {
   "cell_type": "markdown",
   "id": "13cbaffe",
   "metadata": {},
   "source": [
    "Sentinel-1 SAR imagery with VV polarization offers a promising approach for mapping waterways in regions like Kasaï, where dense vegetation often hides water features. Its ability to capture data regardless of weather or time of day makes it invaluable for improving the accuracy and completeness of waterway networks."
   ]
  },
  {
   "cell_type": "code",
   "execution_count": 86,
   "id": "a7ec3fba",
   "metadata": {},
   "outputs": [],
   "source": [
    "finalmap = m.as_html()"
   ]
  },
  {
   "cell_type": "markdown",
   "id": "bd7cb655",
   "metadata": {},
   "source": [
    "EXTRACT NODES!"
   ]
  },
  {
   "cell_type": "code",
   "execution_count": null,
   "id": "838e608b",
   "metadata": {},
   "outputs": [],
   "source": [
    "import lonboard\n",
    "#Parse the result into a list of Point geometries\n",
    "# List to store the nodes (as Points)\n",
    "nodes = []\n",
    "\n",
    "for node in result.nodes:\n",
    "    # Create a point geometry from each node\n",
    "    point = Point(node.lon, node.lat)\n",
    "    nodes.append(point)\n",
    "\n",
    "#Create a GeoDataFrame storing nodes geometries and set the Coordinate Reference System - OSM data collected using WGS84 (EPSG:4326)\n",
    "gdf_nodes = gpd.GeoDataFrame(geometry=nodes, crs='EPSG:4326')\n",
    "\n",
    "#Display the Point GeoDataFrame\n",
    "display(gdf_nodes)\n",
    "\n",
    "\n",
    "##Visualize OSM data\n",
    "#Create Map layer to visualize OSM nodes\n",
    "layer_nodes = ScatterplotLayer.from_geopandas(\n",
    "    gdf_nodes,\n",
    "    get_fill_color=[255,255,0], #yellow fill\n",
    "    get_line_color=[0, 0, 0], #black outline\n",
    "    stroked=True,\n",
    "    radius_scale=10,\n",
    ")\n",
    "\n",
    "Map(layer_nodes)"
   ]
  },
  {
   "cell_type": "code",
   "execution_count": 199,
   "id": "56200871",
   "metadata": {},
   "outputs": [
    {
     "data": {
      "text/html": [
       "<div>\n",
       "<style scoped>\n",
       "    .dataframe tbody tr th:only-of-type {\n",
       "        vertical-align: middle;\n",
       "    }\n",
       "\n",
       "    .dataframe tbody tr th {\n",
       "        vertical-align: top;\n",
       "    }\n",
       "\n",
       "    .dataframe thead th {\n",
       "        text-align: right;\n",
       "    }\n",
       "</style>\n",
       "<table border=\"1\" class=\"dataframe\">\n",
       "  <thead>\n",
       "    <tr style=\"text-align: right;\">\n",
       "      <th></th>\n",
       "      <th>geometry</th>\n",
       "      <th>node_id</th>\n",
       "      <th>tags</th>\n",
       "    </tr>\n",
       "  </thead>\n",
       "  <tbody>\n",
       "    <tr>\n",
       "      <th>0</th>\n",
       "      <td>POINT (23.11597 -5.36569)</td>\n",
       "      <td>5467358896</td>\n",
       "      <td>{}</td>\n",
       "    </tr>\n",
       "    <tr>\n",
       "      <th>1</th>\n",
       "      <td>POINT (23.11621 -5.36560)</td>\n",
       "      <td>5467358897</td>\n",
       "      <td>{}</td>\n",
       "    </tr>\n",
       "    <tr>\n",
       "      <th>2</th>\n",
       "      <td>POINT (23.11648 -5.36606)</td>\n",
       "      <td>5467358898</td>\n",
       "      <td>{}</td>\n",
       "    </tr>\n",
       "    <tr>\n",
       "      <th>3</th>\n",
       "      <td>POINT (23.11728 -5.36664)</td>\n",
       "      <td>5467358899</td>\n",
       "      <td>{}</td>\n",
       "    </tr>\n",
       "    <tr>\n",
       "      <th>4</th>\n",
       "      <td>POINT (23.11698 -5.36685)</td>\n",
       "      <td>5467358900</td>\n",
       "      <td>{}</td>\n",
       "    </tr>\n",
       "    <tr>\n",
       "      <th>...</th>\n",
       "      <td>...</td>\n",
       "      <td>...</td>\n",
       "      <td>...</td>\n",
       "    </tr>\n",
       "    <tr>\n",
       "      <th>234</th>\n",
       "      <td>POINT (23.05384 -5.25532)</td>\n",
       "      <td>10281158927</td>\n",
       "      <td>{}</td>\n",
       "    </tr>\n",
       "    <tr>\n",
       "      <th>235</th>\n",
       "      <td>POINT (23.05321 -5.25524)</td>\n",
       "      <td>10281158928</td>\n",
       "      <td>{}</td>\n",
       "    </tr>\n",
       "    <tr>\n",
       "      <th>236</th>\n",
       "      <td>POINT (23.05242 -5.25557)</td>\n",
       "      <td>10281158929</td>\n",
       "      <td>{}</td>\n",
       "    </tr>\n",
       "    <tr>\n",
       "      <th>237</th>\n",
       "      <td>POINT (23.05138 -5.25592)</td>\n",
       "      <td>10281158930</td>\n",
       "      <td>{}</td>\n",
       "    </tr>\n",
       "    <tr>\n",
       "      <th>238</th>\n",
       "      <td>POINT (23.05078 -5.25625)</td>\n",
       "      <td>10281158931</td>\n",
       "      <td>{}</td>\n",
       "    </tr>\n",
       "  </tbody>\n",
       "</table>\n",
       "<p>239 rows × 3 columns</p>\n",
       "</div>"
      ],
      "text/plain": [
       "                      geometry      node_id tags\n",
       "0    POINT (23.11597 -5.36569)   5467358896   {}\n",
       "1    POINT (23.11621 -5.36560)   5467358897   {}\n",
       "2    POINT (23.11648 -5.36606)   5467358898   {}\n",
       "3    POINT (23.11728 -5.36664)   5467358899   {}\n",
       "4    POINT (23.11698 -5.36685)   5467358900   {}\n",
       "..                         ...          ...  ...\n",
       "234  POINT (23.05384 -5.25532)  10281158927   {}\n",
       "235  POINT (23.05321 -5.25524)  10281158928   {}\n",
       "236  POINT (23.05242 -5.25557)  10281158929   {}\n",
       "237  POINT (23.05138 -5.25592)  10281158930   {}\n",
       "238  POINT (23.05078 -5.25625)  10281158931   {}\n",
       "\n",
       "[239 rows x 3 columns]"
      ]
     },
     "metadata": {},
     "output_type": "display_data"
    },
    {
     "data": {
      "application/vnd.jupyter.widget-view+json": {
       "model_id": "4f5a91cc9423472f9d51de3972f39506",
       "version_major": 2,
       "version_minor": 1
      },
      "text/plain": [
       "Map(custom_attribution='', layers=(ScatterplotLayer(get_fill_color=[255, 255, 0], get_line_color=[0, 0, 0], ra…"
      ]
     },
     "execution_count": 199,
     "metadata": {},
     "output_type": "execute_result"
    }
   ],
   "source": [
    "import geopandas as gpd\n",
    "from shapely.geometry import Point\n",
    "from lonboard import ScatterplotLayer, Map\n",
    "\n",
    "# Assuming 'result' is your OSM data object\n",
    "# List to store the nodes (as Points) and their attributes\n",
    "nodes = []\n",
    "node_ids = []\n",
    "node_tags = []\n",
    "\n",
    "for node in result.nodes:\n",
    "    # Create a point geometry from each node\n",
    "    point = Point(node.lon, node.lat)\n",
    "    nodes.append(point)\n",
    "    \n",
    "    # Extract node ID and tags (if available)\n",
    "    node_ids.append(node.id)\n",
    "    node_tags.append(node.tags if node.tags else {})  # Store tags as a dictionary, empty if no tags\n",
    "\n",
    "# Create a GeoDataFrame storing nodes geometries, IDs, and tags, and set the Coordinate Reference System (WGS84)\n",
    "gdf_nodes = gpd.GeoDataFrame({\n",
    "    'geometry': nodes,\n",
    "    'node_id': node_ids,\n",
    "    'tags': node_tags\n",
    "}, crs='EPSG:4326')\n",
    "\n",
    "# Display the Point GeoDataFrame with node IDs and tags\n",
    "display(gdf_nodes)\n",
    "\n",
    "# Visualize OSM data\n",
    "# Create a Map layer to visualize OSM nodes\n",
    "layer_nodes = ScatterplotLayer.from_geopandas(\n",
    "    gdf_nodes,\n",
    "    get_fill_color=[255, 255, 0],  # yellow fill\n",
    "    get_line_color=[0, 0, 0],      # black outline\n",
    "    stroked=True,\n",
    "    radius_scale=10,\n",
    ")\n",
    "\n",
    "# Create a map to display the nodes\n",
    "Map(layer_nodes)"
   ]
  },
  {
   "cell_type": "code",
   "execution_count": 211,
   "id": "fae9a2b3",
   "metadata": {},
   "outputs": [
    {
     "ename": "ValueError",
     "evalue": "Mismatch in the lengths of ways, way_ids, or way_tags",
     "output_type": "error",
     "traceback": [
      "\u001b[1;31m---------------------------------------------------------------------------\u001b[0m",
      "\u001b[1;31mValueError\u001b[0m                                Traceback (most recent call last)",
      "\u001b[1;32m~\\AppData\\Local\\Temp\\ipykernel_37864\\1191845097.py\u001b[0m in \u001b[0;36m<cell line: 45>\u001b[1;34m()\u001b[0m\n\u001b[0;32m     44\u001b[0m \u001b[1;31m# Ensure the lengths of the lists match\u001b[0m\u001b[1;33m\u001b[0m\u001b[1;33m\u001b[0m\u001b[1;33m\u001b[0m\u001b[0m\n\u001b[0;32m     45\u001b[0m \u001b[1;32mif\u001b[0m \u001b[0mlen\u001b[0m\u001b[1;33m(\u001b[0m\u001b[0mways\u001b[0m\u001b[1;33m)\u001b[0m \u001b[1;33m!=\u001b[0m \u001b[0mlen\u001b[0m\u001b[1;33m(\u001b[0m\u001b[0mway_ids\u001b[0m\u001b[1;33m)\u001b[0m \u001b[1;32mor\u001b[0m \u001b[0mlen\u001b[0m\u001b[1;33m(\u001b[0m\u001b[0mways\u001b[0m\u001b[1;33m)\u001b[0m \u001b[1;33m!=\u001b[0m \u001b[0mlen\u001b[0m\u001b[1;33m(\u001b[0m\u001b[0mway_tags\u001b[0m\u001b[1;33m)\u001b[0m\u001b[1;33m:\u001b[0m\u001b[1;33m\u001b[0m\u001b[1;33m\u001b[0m\u001b[0m\n\u001b[1;32m---> 46\u001b[1;33m     \u001b[1;32mraise\u001b[0m \u001b[0mValueError\u001b[0m\u001b[1;33m(\u001b[0m\u001b[1;34m\"Mismatch in the lengths of ways, way_ids, or way_tags\"\u001b[0m\u001b[1;33m)\u001b[0m\u001b[1;33m\u001b[0m\u001b[1;33m\u001b[0m\u001b[0m\n\u001b[0m\u001b[0;32m     47\u001b[0m \u001b[1;33m\u001b[0m\u001b[0m\n\u001b[0;32m     48\u001b[0m \u001b[1;32mif\u001b[0m \u001b[0mlen\u001b[0m\u001b[1;33m(\u001b[0m\u001b[0mpolygons\u001b[0m\u001b[1;33m)\u001b[0m \u001b[1;33m!=\u001b[0m \u001b[0mlen\u001b[0m\u001b[1;33m(\u001b[0m\u001b[0mpolygon_ids\u001b[0m\u001b[1;33m)\u001b[0m \u001b[1;32mor\u001b[0m \u001b[0mlen\u001b[0m\u001b[1;33m(\u001b[0m\u001b[0mpolygons\u001b[0m\u001b[1;33m)\u001b[0m \u001b[1;33m!=\u001b[0m \u001b[0mlen\u001b[0m\u001b[1;33m(\u001b[0m\u001b[0mpolygon_tags\u001b[0m\u001b[1;33m)\u001b[0m\u001b[1;33m:\u001b[0m\u001b[1;33m\u001b[0m\u001b[1;33m\u001b[0m\u001b[0m\n",
      "\u001b[1;31mValueError\u001b[0m: Mismatch in the lengths of ways, way_ids, or way_tags"
     ]
    }
   ],
   "source": [
    "\n",
    "# Initialize lists to store geometries, IDs, and tags\n",
    "ways = []\n",
    "polygons = []\n",
    "way_ids = []\n",
    "way_tags = []\n",
    "polygon_ids = []\n",
    "polygon_tags = []\n",
    "\n",
    "# Iterate over the ways in the result\n",
    "for way in result.ways:\n",
    "    # Fetch the nodes for each way, resolving missing ones\n",
    "    nodes_ways = way.get_nodes(resolve_missing=True)\n",
    "    \n",
    "    # Extract coordinates (lon, lat) for each node\n",
    "    coords = [(node.lon, node.lat) for node in nodes_ways]\n",
    "    \n",
    "    # Check if we have enough nodes to create a valid geometry\n",
    "    if len(coords) > 1:\n",
    "        geometry_added = False\n",
    "        \n",
    "        # Handle closed ways as polygons\n",
    "        if coords[0] == coords[-1]:\n",
    "            polygon = Polygon(coords)\n",
    "            if polygon.is_valid:  # Only add valid polygons\n",
    "                polygons.append(polygon)\n",
    "                polygon_ids.append(way.id)  # Store polygon ID\n",
    "                polygon_tags.append(way.tags if way.tags else {})  # Store tags for polygons\n",
    "                geometry_added = True\n",
    "        else:\n",
    "            # Handle open ways as LineStrings\n",
    "            line = LineString(coords)\n",
    "            if line.is_valid:  # Only add valid lines\n",
    "                ways.append(line)\n",
    "                way_ids.append(way.id)  # Store way ID\n",
    "                way_tags.append(way.tags if way.tags else {})  # Store tags for lines\n",
    "                geometry_added = True\n",
    "        \n",
    "        # Only add way_id and way_tags if a valid geometry was created\n",
    "        if geometry_added:\n",
    "            if coords[0] != coords[-1]:\n",
    "                way_ids.append(way.id)  # Store way ID for non-looping ways\n",
    "                way_tags.append(way.tags if way.tags else {})  # Store tags for non-looping ways\n",
    "\n",
    "# Ensure the lengths of the lists match\n",
    "if len(ways) != len(way_ids) or len(ways) != len(way_tags):\n",
    "    raise ValueError(\"Mismatch in the lengths of ways, way_ids, or way_tags\")\n",
    "\n",
    "if len(polygons) != len(polygon_ids) or len(polygons) != len(polygon_tags):\n",
    "    raise ValueError(\"Mismatch in the lengths of polygons, polygon_ids, or polygon_tags\")\n",
    "\n",
    "# Create GeoDataFrames for both ways and polygons with IDs and tags\n",
    "gdf_ways = gpd.GeoDataFrame({\n",
    "    'geometry': ways,\n",
    "    'way_id': way_ids,\n",
    "    'tags': way_tags\n",
    "}, crs='EPSG:4326')\n",
    "\n",
    "gdf_polygons = gpd.GeoDataFrame({\n",
    "    'geometry': polygons,\n",
    "    'polygon_id': polygon_ids,\n",
    "    'tags': polygon_tags\n",
    "}, crs='EPSG:4326')\n",
    "\n",
    "# Display the GeoDataFrames\n",
    "display(gdf_ways)  # Display the ways GeoDataFrame\n",
    "display(gdf_polygons)  # Display the polygons GeoDataFrame\n",
    "\n",
    "# Create Map layer to visualize OSM ways\n",
    "layer_ways = PathLayer.from_geopandas(\n",
    "    gdf_ways,\n",
    "    get_color=[135, 206, 235],  # blue color\n",
    "    width_min_pixels=2,\n",
    ")\n",
    "\n",
    "# Create Map layer to visualize OSM closed ways (polygons)\n",
    "layer_polygons = PolygonLayer.from_geopandas(\n",
    "    gdf_polygons,\n",
    "    get_fill_color=[255, 127, 80]  # orange fill\n",
    ")\n",
    "\n",
    "# Create a map to display the layers\n",
    "Map([layer_ways, layer_polygons])"
   ]
  },
  {
   "cell_type": "code",
   "execution_count": null,
   "id": "a79a6531",
   "metadata": {},
   "outputs": [],
   "source": []
  }
 ],
 "metadata": {
  "kernelspec": {
   "display_name": "Python 3 (ipykernel)",
   "language": "python",
   "name": "python3"
  },
  "language_info": {
   "codemirror_mode": {
    "name": "ipython",
    "version": 3
   },
   "file_extension": ".py",
   "mimetype": "text/x-python",
   "name": "python",
   "nbconvert_exporter": "python",
   "pygments_lexer": "ipython3",
   "version": "3.8.20"
  }
 },
 "nbformat": 4,
 "nbformat_minor": 5
}
